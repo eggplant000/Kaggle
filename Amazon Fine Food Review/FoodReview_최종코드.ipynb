{
 "cells": [
  {
   "cell_type": "code",
   "execution_count": 1,
   "metadata": {
    "colab": {
     "base_uri": "https://localhost:8080/"
    },
    "executionInfo": {
     "elapsed": 16555,
     "status": "ok",
     "timestamp": 1616866459720,
     "user": {
      "displayName": "김수린",
      "photoUrl": "",
      "userId": "07414750594198422591"
     },
     "user_tz": -540
    },
    "id": "jPDfcMEqovde",
    "outputId": "1abd6dc0-25ea-4302-c6fe-12f198ac1141"
   },
   "outputs": [
    {
     "name": "stdout",
     "output_type": "stream",
     "text": [
      "Mounted at /gdrive\n"
     ]
    }
   ],
   "source": [
    "from google.colab import drive\n",
    "drive.mount('/gdrive')"
   ]
  },
  {
   "cell_type": "code",
   "execution_count": 2,
   "metadata": {
    "colab": {
     "base_uri": "https://localhost:8080/"
    },
    "executionInfo": {
     "elapsed": 16547,
     "status": "ok",
     "timestamp": 1616866459722,
     "user": {
      "displayName": "김수린",
      "photoUrl": "",
      "userId": "07414750594198422591"
     },
     "user_tz": -540
    },
    "id": "MnVZW0Xxop_4",
    "outputId": "62ebda70-8682-49d1-c773-6da6ec0f3665"
   },
   "outputs": [
    {
     "name": "stdout",
     "output_type": "stream",
     "text": [
      "/gdrive/MyDrive/project\n"
     ]
    }
   ],
   "source": [
    "%cd /gdrive/MyDrive/project"
   ]
  },
  {
   "cell_type": "code",
   "execution_count": 3,
   "metadata": {
    "colab": {
     "base_uri": "https://localhost:8080/"
    },
    "executionInfo": {
     "elapsed": 20673,
     "status": "ok",
     "timestamp": 1616866463858,
     "user": {
      "displayName": "김수린",
      "photoUrl": "",
      "userId": "07414750594198422591"
     },
     "user_tz": -540
    },
    "id": "YB2XzKaEo7vp",
    "outputId": "aae43442-538f-4f16-a39d-b5d04013b4bf"
   },
   "outputs": [
    {
     "name": "stdout",
     "output_type": "stream",
     "text": [
      "Collecting tensorflow_addons\n",
      "\u001b[?25l  Downloading https://files.pythonhosted.org/packages/74/e3/56d2fe76f0bb7c88ed9b2a6a557e25e83e252aec08f13de34369cd850a0b/tensorflow_addons-0.12.1-cp37-cp37m-manylinux2010_x86_64.whl (703kB)\n",
      "\r",
      "\u001b[K     |▌                               | 10kB 3.9MB/s eta 0:00:01\r",
      "\u001b[K     |█                               | 20kB 4.6MB/s eta 0:00:01\r",
      "\u001b[K     |█▍                              | 30kB 4.5MB/s eta 0:00:01\r",
      "\u001b[K     |█▉                              | 40kB 4.1MB/s eta 0:00:01\r",
      "\u001b[K     |██▎                             | 51kB 5.0MB/s eta 0:00:01\r",
      "\u001b[K     |██▉                             | 61kB 5.3MB/s eta 0:00:01\r",
      "\u001b[K     |███▎                            | 71kB 5.7MB/s eta 0:00:01\r",
      "\u001b[K     |███▊                            | 81kB 5.8MB/s eta 0:00:01\r",
      "\u001b[K     |████▏                           | 92kB 6.3MB/s eta 0:00:01\r",
      "\u001b[K     |████▋                           | 102kB 5.9MB/s eta 0:00:01\r",
      "\u001b[K     |█████▏                          | 112kB 5.9MB/s eta 0:00:01\r",
      "\u001b[K     |█████▋                          | 122kB 5.9MB/s eta 0:00:01\r",
      "\u001b[K     |██████                          | 133kB 5.9MB/s eta 0:00:01\r",
      "\u001b[K     |██████▌                         | 143kB 5.9MB/s eta 0:00:01\r",
      "\u001b[K     |███████                         | 153kB 5.9MB/s eta 0:00:01\r",
      "\u001b[K     |███████▌                        | 163kB 5.9MB/s eta 0:00:01\r",
      "\u001b[K     |████████                        | 174kB 5.9MB/s eta 0:00:01\r",
      "\u001b[K     |████████▍                       | 184kB 5.9MB/s eta 0:00:01\r",
      "\u001b[K     |████████▉                       | 194kB 5.9MB/s eta 0:00:01\r",
      "\u001b[K     |█████████▎                      | 204kB 5.9MB/s eta 0:00:01\r",
      "\u001b[K     |█████████▉                      | 215kB 5.9MB/s eta 0:00:01\r",
      "\u001b[K     |██████████▎                     | 225kB 5.9MB/s eta 0:00:01\r",
      "\u001b[K     |██████████▊                     | 235kB 5.9MB/s eta 0:00:01\r",
      "\u001b[K     |███████████▏                    | 245kB 5.9MB/s eta 0:00:01\r",
      "\u001b[K     |███████████▋                    | 256kB 5.9MB/s eta 0:00:01\r",
      "\u001b[K     |████████████▏                   | 266kB 5.9MB/s eta 0:00:01\r",
      "\u001b[K     |████████████▋                   | 276kB 5.9MB/s eta 0:00:01\r",
      "\u001b[K     |█████████████                   | 286kB 5.9MB/s eta 0:00:01\r",
      "\u001b[K     |█████████████▌                  | 296kB 5.9MB/s eta 0:00:01\r",
      "\u001b[K     |██████████████                  | 307kB 5.9MB/s eta 0:00:01\r",
      "\u001b[K     |██████████████▍                 | 317kB 5.9MB/s eta 0:00:01\r",
      "\u001b[K     |███████████████                 | 327kB 5.9MB/s eta 0:00:01\r",
      "\u001b[K     |███████████████▍                | 337kB 5.9MB/s eta 0:00:01\r",
      "\u001b[K     |███████████████▉                | 348kB 5.9MB/s eta 0:00:01\r",
      "\u001b[K     |████████████████▎               | 358kB 5.9MB/s eta 0:00:01\r",
      "\u001b[K     |████████████████▊               | 368kB 5.9MB/s eta 0:00:01\r",
      "\u001b[K     |█████████████████▎              | 378kB 5.9MB/s eta 0:00:01\r",
      "\u001b[K     |█████████████████▊              | 389kB 5.9MB/s eta 0:00:01\r",
      "\u001b[K     |██████████████████▏             | 399kB 5.9MB/s eta 0:00:01\r",
      "\u001b[K     |██████████████████▋             | 409kB 5.9MB/s eta 0:00:01\r",
      "\u001b[K     |███████████████████             | 419kB 5.9MB/s eta 0:00:01\r",
      "\u001b[K     |███████████████████▋            | 430kB 5.9MB/s eta 0:00:01\r",
      "\u001b[K     |████████████████████            | 440kB 5.9MB/s eta 0:00:01\r",
      "\u001b[K     |████████████████████▌           | 450kB 5.9MB/s eta 0:00:01\r",
      "\u001b[K     |█████████████████████           | 460kB 5.9MB/s eta 0:00:01\r",
      "\u001b[K     |█████████████████████▍          | 471kB 5.9MB/s eta 0:00:01\r",
      "\u001b[K     |██████████████████████          | 481kB 5.9MB/s eta 0:00:01\r",
      "\u001b[K     |██████████████████████▍         | 491kB 5.9MB/s eta 0:00:01\r",
      "\u001b[K     |██████████████████████▉         | 501kB 5.9MB/s eta 0:00:01\r",
      "\u001b[K     |███████████████████████▎        | 512kB 5.9MB/s eta 0:00:01\r",
      "\u001b[K     |███████████████████████▊        | 522kB 5.9MB/s eta 0:00:01\r",
      "\u001b[K     |████████████████████████▎       | 532kB 5.9MB/s eta 0:00:01\r",
      "\u001b[K     |████████████████████████▊       | 542kB 5.9MB/s eta 0:00:01\r",
      "\u001b[K     |█████████████████████████▏      | 552kB 5.9MB/s eta 0:00:01\r",
      "\u001b[K     |█████████████████████████▋      | 563kB 5.9MB/s eta 0:00:01\r",
      "\u001b[K     |██████████████████████████      | 573kB 5.9MB/s eta 0:00:01\r",
      "\u001b[K     |██████████████████████████▋     | 583kB 5.9MB/s eta 0:00:01\r",
      "\u001b[K     |███████████████████████████     | 593kB 5.9MB/s eta 0:00:01\r",
      "\u001b[K     |███████████████████████████▌    | 604kB 5.9MB/s eta 0:00:01\r",
      "\u001b[K     |████████████████████████████    | 614kB 5.9MB/s eta 0:00:01\r",
      "\u001b[K     |████████████████████████████▍   | 624kB 5.9MB/s eta 0:00:01\r",
      "\u001b[K     |████████████████████████████▉   | 634kB 5.9MB/s eta 0:00:01\r",
      "\u001b[K     |█████████████████████████████▍  | 645kB 5.9MB/s eta 0:00:01\r",
      "\u001b[K     |█████████████████████████████▉  | 655kB 5.9MB/s eta 0:00:01\r",
      "\u001b[K     |██████████████████████████████▎ | 665kB 5.9MB/s eta 0:00:01\r",
      "\u001b[K     |██████████████████████████████▊ | 675kB 5.9MB/s eta 0:00:01\r",
      "\u001b[K     |███████████████████████████████▏| 686kB 5.9MB/s eta 0:00:01\r",
      "\u001b[K     |███████████████████████████████▊| 696kB 5.9MB/s eta 0:00:01\r",
      "\u001b[K     |████████████████████████████████| 706kB 5.9MB/s \n",
      "\u001b[?25hRequirement already satisfied: typeguard>=2.7 in /usr/local/lib/python3.7/dist-packages (from tensorflow_addons) (2.7.1)\n",
      "Installing collected packages: tensorflow-addons\n",
      "Successfully installed tensorflow-addons-0.12.1\n"
     ]
    }
   ],
   "source": [
    "!pip install tensorflow_addons"
   ]
  },
  {
   "cell_type": "code",
   "execution_count": 85,
   "metadata": {
    "executionInfo": {
     "elapsed": 577,
     "status": "ok",
     "timestamp": 1616888450679,
     "user": {
      "displayName": "김수린",
      "photoUrl": "",
      "userId": "07414750594198422591"
     },
     "user_tz": -540
    },
    "id": "2Y-JoO1To0CH"
   },
   "outputs": [],
   "source": [
    "import random\n",
    "import os\n",
    "import tensorflow as tf\n",
    "\n",
    "import numpy as np\n",
    "import pandas as pd\n",
    "import matplotlib.pyplot as plt\n",
    "import seaborn as sns\n",
    "\n",
    "from tensorflow.keras.preprocessing.text import Tokenizer\n",
    "from keras.preprocessing.sequence import pad_sequences\n",
    "\n",
    "from sklearn.model_selection import train_test_split\n",
    "\n",
    "from tensorflow.keras.models import Sequential\n",
    "from tensorflow.keras.layers import Dense, Embedding, Conv1D, GlobalMaxPooling1D, Dropout, LSTM\n",
    "\n",
    "from tensorflow.keras.optimizers import Adam\n",
    "from tensorflow_addons.metrics import F1Score\n",
    "\n",
    "\n",
    "## 시드값 고정\n",
    "def seed_everything(seed: int = 42):\n",
    "    random.seed(seed)\n",
    "    np.random.seed(seed)\n",
    "    os.environ[\"PYTHONHASHSEED\"] = str(seed)\n",
    "    tf.random.set_seed(seed)\n",
    "    \n",
    "seed_everything()"
   ]
  },
  {
   "cell_type": "markdown",
   "metadata": {
    "id": "m2HBueDFpWOf"
   },
   "source": [
    "### 전처리 데이터 불러오기"
   ]
  },
  {
   "cell_type": "code",
   "execution_count": 5,
   "metadata": {
    "colab": {
     "base_uri": "https://localhost:8080/",
     "height": 195
    },
    "executionInfo": {
     "elapsed": 27674,
     "status": "ok",
     "timestamp": 1616866470870,
     "user": {
      "displayName": "김수린",
      "photoUrl": "",
      "userId": "07414750594198422591"
     },
     "user_tz": -540
    },
    "id": "PP6L6qx-pXa-",
    "outputId": "6f0795a4-d194-43c7-a939-a216e7ddfead"
   },
   "outputs": [
    {
     "data": {
      "text/html": [
       "<div>\n",
       "<style scoped>\n",
       "    .dataframe tbody tr th:only-of-type {\n",
       "        vertical-align: middle;\n",
       "    }\n",
       "\n",
       "    .dataframe tbody tr th {\n",
       "        vertical-align: top;\n",
       "    }\n",
       "\n",
       "    .dataframe thead th {\n",
       "        text-align: right;\n",
       "    }\n",
       "</style>\n",
       "<table border=\"1\" class=\"dataframe\">\n",
       "  <thead>\n",
       "    <tr style=\"text-align: right;\">\n",
       "      <th></th>\n",
       "      <th>Text</th>\n",
       "      <th>Score</th>\n",
       "    </tr>\n",
       "  </thead>\n",
       "  <tbody>\n",
       "    <tr>\n",
       "      <th>0</th>\n",
       "      <td>think ruin dish open pour past stick lid thin...</td>\n",
       "      <td>0</td>\n",
       "    </tr>\n",
       "    <tr>\n",
       "      <th>1</th>\n",
       "      <td>product nothing marvel false advertisement wa...</td>\n",
       "      <td>0</td>\n",
       "    </tr>\n",
       "    <tr>\n",
       "      <th>2</th>\n",
       "      <td>animal digest already lol yeard old miniature...</td>\n",
       "      <td>0</td>\n",
       "    </tr>\n",
       "    <tr>\n",
       "      <th>3</th>\n",
       "      <td>hey big actually two candy bar wrap serve two...</td>\n",
       "      <td>1</td>\n",
       "    </tr>\n",
       "    <tr>\n",
       "      <th>4</th>\n",
       "      <td>olive oil mean much oil mayo olive oil much o...</td>\n",
       "      <td>0</td>\n",
       "    </tr>\n",
       "  </tbody>\n",
       "</table>\n",
       "</div>"
      ],
      "text/plain": [
       "                                                Text  Score\n",
       "0   think ruin dish open pour past stick lid thin...      0\n",
       "1   product nothing marvel false advertisement wa...      0\n",
       "2   animal digest already lol yeard old miniature...      0\n",
       "3   hey big actually two candy bar wrap serve two...      1\n",
       "4   olive oil mean much oil mayo olive oil much o...      0"
      ]
     },
     "execution_count": 5,
     "metadata": {
      "tags": []
     },
     "output_type": "execute_result"
    }
   ],
   "source": [
    "df = pd.read_csv('df.csv', index_col=0)\n",
    "df.head()"
   ]
  },
  {
   "cell_type": "markdown",
   "metadata": {
    "id": "f1Vs_PDJpaR6"
   },
   "source": [
    "### 정수 인코딩"
   ]
  },
  {
   "cell_type": "code",
   "execution_count": 6,
   "metadata": {
    "executionInfo": {
     "elapsed": 55117,
     "status": "ok",
     "timestamp": 1616866498316,
     "user": {
      "displayName": "김수린",
      "photoUrl": "",
      "userId": "07414750594198422591"
     },
     "user_tz": -540
    },
    "id": "ik1tNuIZpbww"
   },
   "outputs": [],
   "source": [
    "tokenizer = Tokenizer()\n",
    "\n",
    "#fit_on_texts: 빈도수가 높은 순으로 낮은 정수 인덱스 부여\n",
    "tokenizer.fit_on_texts(df['Text'])\n",
    "tokenized = tokenizer.texts_to_sequences(df['Text']) "
   ]
  },
  {
   "cell_type": "code",
   "execution_count": 7,
   "metadata": {
    "executionInfo": {
     "elapsed": 55122,
     "status": "ok",
     "timestamp": 1616866498324,
     "user": {
      "displayName": "김수린",
      "photoUrl": "",
      "userId": "07414750594198422591"
     },
     "user_tz": -540
    },
    "id": "l1ZRk6jipdEa"
   },
   "outputs": [],
   "source": [
    "# 총 단어 수\n",
    "vocab_size = len(tokenizer.word_index) + 1"
   ]
  },
  {
   "cell_type": "markdown",
   "metadata": {
    "id": "JHwfe5KfihuI"
   },
   "source": [
    "#### max_len을 직접 설정하기 위해 문장의 길이를 그래프로 그려본다"
   ]
  },
  {
   "cell_type": "code",
   "execution_count": 8,
   "metadata": {
    "executionInfo": {
     "elapsed": 55120,
     "status": "ok",
     "timestamp": 1616866498325,
     "user": {
      "displayName": "김수린",
      "photoUrl": "",
      "userId": "07414750594198422591"
     },
     "user_tz": -540
    },
    "id": "SFkhtvh6gvgy"
   },
   "outputs": [],
   "source": [
    "from collections import Counter"
   ]
  },
  {
   "cell_type": "code",
   "execution_count": 9,
   "metadata": {
    "executionInfo": {
     "elapsed": 55118,
     "status": "ok",
     "timestamp": 1616866498325,
     "user": {
      "displayName": "김수린",
      "photoUrl": "",
      "userId": "07414750594198422591"
     },
     "user_tz": -540
    },
    "id": "32aG-qFtgiHG"
   },
   "outputs": [],
   "source": [
    "sent_len = [len(item) for item in tokenized]\n",
    "cnt_sent_len = Counter(sent_len)"
   ]
  },
  {
   "cell_type": "code",
   "execution_count": 10,
   "metadata": {
    "colab": {
     "base_uri": "https://localhost:8080/",
     "height": 298
    },
    "executionInfo": {
     "elapsed": 56514,
     "status": "ok",
     "timestamp": 1616866499729,
     "user": {
      "displayName": "김수린",
      "photoUrl": "",
      "userId": "07414750594198422591"
     },
     "user_tz": -540
    },
    "id": "ZnsDLA-0f-Ez",
    "outputId": "5712b829-4341-405c-a281-51b2d10b7605"
   },
   "outputs": [
    {
     "name": "stderr",
     "output_type": "stream",
     "text": [
      "No handles with labels found to put in legend.\n"
     ]
    },
    {
     "data": {
      "image/png": "[encoded data removed]",
      "text/plain": [
       "<Figure size 432x288 with 1 Axes>"
      ]
     },
     "metadata": {
      "needs_background": "light",
      "tags": []
     },
     "output_type": "display_data"
    }
   ],
   "source": [
    "plt.bar(list(cnt_sent_len.keys()), list(cnt_sent_len.values()))\n",
    "plt.title('Count Of Sentences\\' Length')\n",
    "plt.legend()      \n",
    "\n",
    "plt.show()"
   ]
  },
  {
   "cell_type": "code",
   "execution_count": 11,
   "metadata": {
    "colab": {
     "base_uri": "https://localhost:8080/",
     "height": 298
    },
    "executionInfo": {
     "elapsed": 57847,
     "status": "ok",
     "timestamp": 1616866501070,
     "user": {
      "displayName": "김수린",
      "photoUrl": "",
      "userId": "07414750594198422591"
     },
     "user_tz": -540
    },
    "id": "g9Y8Eh6mh-TD",
    "outputId": "d537bdd9-231e-4985-8cd0-115d8fbee9b0"
   },
   "outputs": [
    {
     "name": "stderr",
     "output_type": "stream",
     "text": [
      "No handles with labels found to put in legend.\n"
     ]
    },
    {
     "data": {
      "image/png": "[encoded data removed]",
      "text/plain": [
       "<Figure size 432x288 with 1 Axes>"
      ]
     },
     "metadata": {
      "needs_background": "light",
      "tags": []
     },
     "output_type": "display_data"
    }
   ],
   "source": [
    "plt.bar(list(cnt_sent_len.keys()), list(cnt_sent_len.values()))\n",
    "plt.xlim((0, 200))\n",
    "plt.title('Count Of Sentences\\' Length')\n",
    "plt.legend()      \n",
    "\n",
    "plt.show()"
   ]
  },
  {
   "cell_type": "code",
   "execution_count": 12,
   "metadata": {
    "colab": {
     "base_uri": "https://localhost:8080/"
    },
    "executionInfo": {
     "elapsed": 57841,
     "status": "ok",
     "timestamp": 1616866501071,
     "user": {
      "displayName": "김수린",
      "photoUrl": "",
      "userId": "07414750594198422591"
     },
     "user_tz": -540
    },
    "id": "ntds1Vmtiqpv",
    "outputId": "60db70d1-0165-4016-c2c8-ba4481868205"
   },
   "outputs": [
    {
     "data": {
      "text/plain": [
       "0.98"
      ]
     },
     "execution_count": 12,
     "metadata": {
      "tags": []
     },
     "output_type": "execute_result"
    }
   ],
   "source": [
    "less = 0\n",
    "for length, count in cnt_sent_len.items():\n",
    "  if length <= 150: \n",
    "    less = less + count\n",
    "\n",
    "round(less/sum(list(cnt_sent_len.values())),2)"
   ]
  },
  {
   "cell_type": "markdown",
   "metadata": {
    "id": "uvp6ansEim84"
   },
   "source": [
    "98퍼센트의 문장의 길이가 150이하 이므로 max_len = 150으로 한다."
   ]
  },
  {
   "cell_type": "code",
   "execution_count": 13,
   "metadata": {
    "executionInfo": {
     "elapsed": 57840,
     "status": "ok",
     "timestamp": 1616866501072,
     "user": {
      "displayName": "김수린",
      "photoUrl": "",
      "userId": "07414750594198422591"
     },
     "user_tz": -540
    },
    "id": "E6JWoJCqj-Bl"
   },
   "outputs": [],
   "source": [
    "max_len = 150"
   ]
  },
  {
   "cell_type": "code",
   "execution_count": 14,
   "metadata": {
    "colab": {
     "base_uri": "https://localhost:8080/"
    },
    "executionInfo": {
     "elapsed": 57834,
     "status": "ok",
     "timestamp": 1616866501073,
     "user": {
      "displayName": "김수린",
      "photoUrl": "",
      "userId": "07414750594198422591"
     },
     "user_tz": -540
    },
    "id": "S26T7Y7ppewg",
    "outputId": "d3c2eb98-8b9a-4e11-b938-074a037104b6"
   },
   "outputs": [
    {
     "name": "stdout",
     "output_type": "stream",
     "text": [
      "[30, 1544, 378, 130, 513, 474, 224, 988, 30, 1, 586, 106, 167, 542, 3259, 561, 31, 1, 25, 474, 534, 3, 1354, 3127, 2, 264, 275, 1, 14, 80] \n",
      "\n",
      "[15, 243, 8274, 2890, 4503, 464, 242, 52, 137, 1193, 372, 3119, 382, 20279, 2783, 804, 17232, 20, 1333, 39, 1064, 8274, 20280, 798, 52458, 372, 576] \n",
      "\n",
      "[1316, 1593, 470, 1176, 52459, 126, 3312, 5784, 2164, 22, 66, 37, 269, 23, 160, 99, 405, 76, 1119, 34, 162, 1, 24178, 463, 114, 1322, 182, 19343, 18544, 28, 92, 378, 33, 62, 307, 916, 264, 156, 15, 284, 264, 165, 284, 120, 339, 358, 421, 11057, 1400, 44, 4068, 148, 358, 421, 407, 358, 46, 5200, 9926, 3843, 47, 1316, 1593, 127, 8275, 688, 1536, 3153, 14254, 3843, 9927, 688, 1983, 7920, 14573, 100, 1239, 100, 1470, 1404, 1292, 1404, 11830, 5741, 3153, 612, 850, 740, 578, 37, 269, 8911, 10047, 3260, 3022, 20281, 16160, 8154, 3022, 3806, 5413, 3022, 1404, 7207, 4440, 850, 6695, 5472, 5982, 618, 93, 618, 93, 30, 618, 122, 34, 17834, 39119, 3830, 3022] \n",
      "\n",
      "[1749, 146, 149, 67, 131, 78, 537, 134, 67, 157, 68, 296, 6619, 19, 10, 189, 10, 530, 78, 168, 582, 228, 750, 1575, 171, 1194, 283, 1220, 9, 2126, 114, 296, 6619, 78, 225, 8, 146, 78, 1, 2243, 758, 56, 1828, 1248, 130, 131, 78, 399, 11, 509, 2363, 169, 918, 395, 79] \n",
      "\n",
      "[519, 93, 329, 25, 93, 1814, 519, 93, 25, 1616, 93, 554, 684, 432, 1226, 519, 93, 13, 519, 93, 2735, 248, 2735, 519, 93, 578, 2689, 93, 519, 93, 197, 132, 99, 519, 93, 660, 50, 519, 93, 2689, 93, 2350, 93, 689, 660, 4069, 336, 53, 31, 519, 93, 316, 2689, 93, 316, 2350, 93, 851, 23, 375, 7078, 465, 26238, 52460, 13, 42, 1, 686, 215, 118, 2735, 244, 93, 2133, 248, 4864, 1338, 536, 7, 110, 355, 887, 118, 118, 47, 519, 93, 2350, 93, 2689, 93, 799, 2353, 23, 1676, 46, 3165, 446, 223, 99, 127, 958, 358, 100, 1371, 100, 618, 143, 4, 6658, 2353, 446, 7453, 6971, 8218, 269, 7973, 688, 1536, 5679, 1404, 6925, 14931, 1120, 8275, 688, 432, 1, 652, 17, 2735, 223, 446, 114, 52461, 4768, 7164] \n",
      "\n"
     ]
    }
   ],
   "source": [
    "# 결과 확인\n",
    "for i in range(5):\n",
    "    print(tokenized[i],\"\\n\")"
   ]
  },
  {
   "cell_type": "markdown",
   "metadata": {
    "id": "UitSXJD6pg_S"
   },
   "source": [
    "### padding"
   ]
  },
  {
   "cell_type": "code",
   "execution_count": 15,
   "metadata": {
    "colab": {
     "base_uri": "https://localhost:8080/"
    },
    "executionInfo": {
     "elapsed": 60975,
     "status": "ok",
     "timestamp": 1616866504220,
     "user": {
      "displayName": "김수린",
      "photoUrl": "",
      "userId": "07414750594198422591"
     },
     "user_tz": -540
    },
    "id": "quwoDFVXphTe",
    "outputId": "32b04760-b3a1-4508-9977-1a3ec7878efc"
   },
   "outputs": [
    {
     "name": "stdout",
     "output_type": "stream",
     "text": [
      "[   0    0    0    0    0    0    0    0    0    0    0    0    0    0\n",
      "    0    0    0    0    0    0    0    0    0    0    0    0    0    0\n",
      "    0    0    0    0    0    0    0    0    0    0    0    0    0    0\n",
      "    0    0    0    0    0    0    0    0    0    0    0    0    0    0\n",
      "    0    0    0    0    0    0    0    0    0    0    0    0    0    0\n",
      "    0    0    0    0    0    0    0    0    0    0    0    0    0    0\n",
      "    0    0    0    0    0    0    0    0    0    0    0    0    0    0\n",
      "    0    0    0    0    0    0    0    0    0    0    0    0    0    0\n",
      "    0    0    0    0    0    0    0    0   30 1544  378  130  513  474\n",
      "  224  988   30    1  586  106  167  542 3259  561   31    1   25  474\n",
      "  534    3 1354 3127    2  264  275    1   14   80]\n",
      "[    0     0     0     0     0     0     0     0     0     0     0     0\n",
      "     0     0     0     0     0     0     0     0     0     0     0     0\n",
      "     0     0     0     0     0     0     0     0     0     0     0     0\n",
      "     0     0     0     0     0     0     0     0     0     0     0     0\n",
      "     0     0     0     0     0     0     0     0     0     0     0     0\n",
      "     0     0     0     0     0     0     0     0     0     0     0     0\n",
      "     0     0     0     0     0     0     0     0     0     0     0     0\n",
      "     0     0     0     0     0     0     0     0     0     0     0     0\n",
      "     0     0     0     0     0     0     0     0     0     0     0     0\n",
      "     0     0     0     0     0     0     0     0     0     0     0     0\n",
      "     0     0     0    15   243  8274  2890  4503   464   242    52   137\n",
      "  1193   372  3119   382 20279  2783   804 17232    20  1333    39  1064\n",
      "  8274 20280   798 52458   372   576]\n",
      "[    0     0     0     0     0     0     0     0     0     0     0     0\n",
      "     0     0     0     0     0     0     0     0     0     0     0     0\n",
      "     0     0     0     0     0  1316  1593   470  1176 52459   126  3312\n",
      "  5784  2164    22    66    37   269    23   160    99   405    76  1119\n",
      "    34   162     1 24178   463   114  1322   182 19343 18544    28    92\n",
      "   378    33    62   307   916   264   156    15   284   264   165   284\n",
      "   120   339   358   421 11057  1400    44  4068   148   358   421   407\n",
      "   358    46  5200  9926  3843    47  1316  1593   127  8275   688  1536\n",
      "  3153 14254  3843  9927   688  1983  7920 14573   100  1239   100  1470\n",
      "  1404  1292  1404 11830  5741  3153   612   850   740   578    37   269\n",
      "  8911 10047  3260  3022 20281 16160  8154  3022  3806  5413  3022  1404\n",
      "  7207  4440   850  6695  5472  5982   618    93   618    93    30   618\n",
      "   122    34 17834 39119  3830  3022]\n",
      "[   0    0    0    0    0    0    0    0    0    0    0    0    0    0\n",
      "    0    0    0    0    0    0    0    0    0    0    0    0    0    0\n",
      "    0    0    0    0    0    0    0    0    0    0    0    0    0    0\n",
      "    0    0    0    0    0    0    0    0    0    0    0    0    0    0\n",
      "    0    0    0    0    0    0    0    0    0    0    0    0    0    0\n",
      "    0    0    0    0    0    0    0    0    0    0    0    0    0    0\n",
      "    0    0    0    0    0    0    0    0    0    0    0 1749  146  149\n",
      "   67  131   78  537  134   67  157   68  296 6619   19   10  189   10\n",
      "  530   78  168  582  228  750 1575  171 1194  283 1220    9 2126  114\n",
      "  296 6619   78  225    8  146   78    1 2243  758   56 1828 1248  130\n",
      "  131   78  399   11  509 2363  169  918  395   79]\n",
      "[    0     0     0     0     0     0     0     0     0     0     0     0\n",
      "     0   519    93   329    25    93  1814   519    93    25  1616    93\n",
      "   554   684   432  1226   519    93    13   519    93  2735   248  2735\n",
      "   519    93   578  2689    93   519    93   197   132    99   519    93\n",
      "   660    50   519    93  2689    93  2350    93   689   660  4069   336\n",
      "    53    31   519    93   316  2689    93   316  2350    93   851    23\n",
      "   375  7078   465 26238 52460    13    42     1   686   215   118  2735\n",
      "   244    93  2133   248  4864  1338   536     7   110   355   887   118\n",
      "   118    47   519    93  2350    93  2689    93   799  2353    23  1676\n",
      "    46  3165   446   223    99   127   958   358   100  1371   100   618\n",
      "   143     4  6658  2353   446  7453  6971  8218   269  7973   688  1536\n",
      "  5679  1404  6925 14931  1120  8275   688   432     1   652    17  2735\n",
      "   223   446   114 52461  4768  7164]\n"
     ]
    }
   ],
   "source": [
    "x = pad_sequences(tokenized, maxlen=max_len)\n",
    "\n",
    "# 결과확인\n",
    "for i in range(5):\n",
    "    print(x[i])"
   ]
  },
  {
   "cell_type": "code",
   "execution_count": 16,
   "metadata": {
    "executionInfo": {
     "elapsed": 60972,
     "status": "ok",
     "timestamp": 1616866504221,
     "user": {
      "displayName": "김수린",
      "photoUrl": "",
      "userId": "07414750594198422591"
     },
     "user_tz": -540
    },
    "id": "37wsDi8wpii8"
   },
   "outputs": [],
   "source": [
    "y = df['Score']"
   ]
  },
  {
   "cell_type": "markdown",
   "metadata": {
    "id": "SR0nDAHlpjvW"
   },
   "source": [
    "### 데이터 정보 확인"
   ]
  },
  {
   "cell_type": "code",
   "execution_count": 17,
   "metadata": {
    "colab": {
     "base_uri": "https://localhost:8080/"
    },
    "executionInfo": {
     "elapsed": 60963,
     "status": "ok",
     "timestamp": 1616866504221,
     "user": {
      "displayName": "김수린",
      "photoUrl": "",
      "userId": "07414750594198422591"
     },
     "user_tz": -540
    },
    "id": "DzV-IBgkpk4o",
    "outputId": "f20a55fe-8876-4655-f595-60ac0c6a1ee0"
   },
   "outputs": [
    {
     "name": "stdout",
     "output_type": "stream",
     "text": [
      "x.shape =  (393577, 150)\n",
      "y.shape =  (393577,)\n"
     ]
    }
   ],
   "source": [
    "print(\"x.shape = \", x.shape)\n",
    "print(\"y.shape = \", y.shape)"
   ]
  },
  {
   "cell_type": "code",
   "execution_count": 18,
   "metadata": {
    "colab": {
     "base_uri": "https://localhost:8080/"
    },
    "executionInfo": {
     "elapsed": 60954,
     "status": "ok",
     "timestamp": 1616866504222,
     "user": {
      "displayName": "김수린",
      "photoUrl": "",
      "userId": "07414750594198422591"
     },
     "user_tz": -540
    },
    "id": "RC_xbKZBpmIK",
    "outputId": "e53b3487-6fbd-4429-a2bf-5ad8017784ec"
   },
   "outputs": [
    {
     "data": {
      "text/plain": [
       "{0: 86820, 1: 306757}"
      ]
     },
     "execution_count": 18,
     "metadata": {
      "tags": []
     },
     "output_type": "execute_result"
    }
   ],
   "source": [
    "unique, counts = np.unique(y, return_counts=True)\n",
    "dict(zip(unique, counts))"
   ]
  },
  {
   "cell_type": "code",
   "execution_count": 19,
   "metadata": {
    "colab": {
     "base_uri": "https://localhost:8080/",
     "height": 476
    },
    "executionInfo": {
     "elapsed": 61483,
     "status": "ok",
     "timestamp": 1616866504755,
     "user": {
      "displayName": "김수린",
      "photoUrl": "",
      "userId": "07414750594198422591"
     },
     "user_tz": -540
    },
    "id": "DI7RLR-hvHA7",
    "outputId": "f1d7b696-ea16-4314-ca0a-18f90ae8abd5"
   },
   "outputs": [
    {
     "data": {
      "text/plain": [
       "Text(0.5, 1.0, 'Bar plot of Score')"
      ]
     },
     "execution_count": 19,
     "metadata": {
      "tags": []
     },
     "output_type": "execute_result"
    },
    {
     "data": {
      "image/png": "[encoded data removed]",
      "text/plain": [
       "<Figure size 720x504 with 1 Axes>"
      ]
     },
     "metadata": {
      "needs_background": "light",
      "tags": []
     },
     "output_type": "display_data"
    }
   ],
   "source": [
    "plt.figure(figsize = (10,7))\n",
    "sns.countplot(x = df['Score'])\n",
    "plt.title(\"Bar plot of Score\")"
   ]
  },
  {
   "cell_type": "markdown",
   "metadata": {
    "id": "Fzs9WUSEuAMB"
   },
   "source": [
    "## FastText"
   ]
  },
  {
   "cell_type": "code",
   "execution_count": 20,
   "metadata": {
    "executionInfo": {
     "elapsed": 682641,
     "status": "ok",
     "timestamp": 1616867125918,
     "user": {
      "displayName": "김수린",
      "photoUrl": "",
      "userId": "07414750594198422591"
     },
     "user_tz": -540
    },
    "id": "82WKVG8icBCO"
   },
   "outputs": [],
   "source": [
    "from gensim.models import KeyedVectors\n",
    "FASTTEXTFILE=\"crawl-300d-2M.vec\"\n",
    "FastText=KeyedVectors.load_word2vec_format(FASTTEXTFILE)"
   ]
  },
  {
   "cell_type": "code",
   "execution_count": 21,
   "metadata": {
    "executionInfo": {
     "elapsed": 682647,
     "status": "ok",
     "timestamp": 1616867125927,
     "user": {
      "displayName": "김수린",
      "photoUrl": "",
      "userId": "07414750594198422591"
     },
     "user_tz": -540
    },
    "id": "CRp5K-Wqv3bE"
   },
   "outputs": [],
   "source": [
    "embedding_matrix = np.zeros((vocab_size, 300))"
   ]
  },
  {
   "cell_type": "code",
   "execution_count": 22,
   "metadata": {
    "executionInfo": {
     "elapsed": 683255,
     "status": "ok",
     "timestamp": 1616867126538,
     "user": {
      "displayName": "김수린",
      "photoUrl": "",
      "userId": "07414750594198422591"
     },
     "user_tz": -540
    },
    "id": "Rk1gHU1_UkuJ"
   },
   "outputs": [],
   "source": [
    "for word, i in tokenizer.word_index.items():   # 훈련 데이터의 단어 집합에서 단어와 정수 인덱스를 1개씩 꺼내온다.\n",
    "    if word in FastText:                       # FastText에 단어가 존재하면\n",
    "        embedding_matrix[i] = FastText.get_vector(word)             # 해당 단어 위치의 행에 벡터의 값을 저장한다."
   ]
  },
  {
   "cell_type": "code",
   "execution_count": 23,
   "metadata": {
    "colab": {
     "base_uri": "https://localhost:8080/"
    },
    "executionInfo": {
     "elapsed": 683248,
     "status": "ok",
     "timestamp": 1616867126541,
     "user": {
      "displayName": "김수린",
      "photoUrl": "",
      "userId": "07414750594198422591"
     },
     "user_tz": -540
    },
    "id": "b4D09uCdUpdu",
    "outputId": "c2bb89d8-6f5d-4f59-98a2-4537bb57e5b8"
   },
   "outputs": [
    {
     "data": {
      "text/plain": [
       "array([[ 0.        ,  0.        ,  0.        , ...,  0.        ,\n",
       "         0.        ,  0.        ],\n",
       "       [-0.0538    , -0.1575    , -0.037     , ..., -0.63129997,\n",
       "         0.14399999,  0.0629    ],\n",
       "       [-0.12899999, -0.36520001,  0.12549999, ..., -0.2211    ,\n",
       "        -0.26589999, -0.1293    ],\n",
       "       ...,\n",
       "       [ 0.        ,  0.        ,  0.        , ...,  0.        ,\n",
       "         0.        ,  0.        ],\n",
       "       [ 0.33649999, -0.1159    ,  0.46810001, ...,  0.2518    ,\n",
       "         0.29809999,  0.37099999],\n",
       "       [ 0.        ,  0.        ,  0.        , ...,  0.        ,\n",
       "         0.        ,  0.        ]])"
      ]
     },
     "execution_count": 23,
     "metadata": {
      "tags": []
     },
     "output_type": "execute_result"
    }
   ],
   "source": [
    "embedding_matrix"
   ]
  },
  {
   "cell_type": "code",
   "execution_count": 24,
   "metadata": {
    "colab": {
     "base_uri": "https://localhost:8080/"
    },
    "executionInfo": {
     "elapsed": 683240,
     "status": "ok",
     "timestamp": 1616867126542,
     "user": {
      "displayName": "김수린",
      "photoUrl": "",
      "userId": "07414750594198422591"
     },
     "user_tz": -540
    },
    "id": "icclZ5wjHzK9",
    "outputId": "0aa83ec8-cc9d-4ef3-9b56-9d9813b58aba"
   },
   "outputs": [
    {
     "data": {
      "text/plain": [
       "(114026, 300)"
      ]
     },
     "execution_count": 24,
     "metadata": {
      "tags": []
     },
     "output_type": "execute_result"
    }
   ],
   "source": [
    "embedding_matrix.shape"
   ]
  },
  {
   "cell_type": "code",
   "execution_count": 25,
   "metadata": {
    "colab": {
     "base_uri": "https://localhost:8080/"
    },
    "executionInfo": {
     "elapsed": 683232,
     "status": "ok",
     "timestamp": 1616867126542,
     "user": {
      "displayName": "김수린",
      "photoUrl": "",
      "userId": "07414750594198422591"
     },
     "user_tz": -540
    },
    "id": "6WQempvAG4XC",
    "outputId": "3704cbc4-ec4c-41c5-b21a-391b9366aa9f"
   },
   "outputs": [
    {
     "data": {
      "text/plain": [
       "48189"
      ]
     },
     "execution_count": 25,
     "metadata": {
      "tags": []
     },
     "output_type": "execute_result"
    }
   ],
   "source": [
    "zerovec = np.sum(np.sum(embedding_matrix, axis=1) == 0) # 모두 0으로 이루어진 벡터 (FastText voca에 없는 단어)\n",
    "zerovec"
   ]
  },
  {
   "cell_type": "code",
   "execution_count": 26,
   "metadata": {
    "colab": {
     "base_uri": "https://localhost:8080/"
    },
    "executionInfo": {
     "elapsed": 683227,
     "status": "ok",
     "timestamp": 1616867126543,
     "user": {
      "displayName": "김수린",
      "photoUrl": "",
      "userId": "07414750594198422591"
     },
     "user_tz": -540
    },
    "id": "AX4oqFRXaYMQ",
    "outputId": "c92ba023-ac4e-4043-9040-078459a763b8"
   },
   "outputs": [
    {
     "data": {
      "text/plain": [
       "0.42"
      ]
     },
     "execution_count": 26,
     "metadata": {
      "tags": []
     },
     "output_type": "execute_result"
    }
   ],
   "source": [
    "round(zerovec/embedding_matrix.shape[0],2)"
   ]
  },
  {
   "cell_type": "markdown",
   "metadata": {
    "id": "_m4sy8NhpotE"
   },
   "source": [
    "### 모델 생성"
   ]
  },
  {
   "cell_type": "code",
   "execution_count": 86,
   "metadata": {
    "colab": {
     "base_uri": "https://localhost:8080/"
    },
    "executionInfo": {
     "elapsed": 3317,
     "status": "ok",
     "timestamp": 1616888463592,
     "user": {
      "displayName": "김수린",
      "photoUrl": "",
      "userId": "07414750594198422591"
     },
     "user_tz": -540
    },
    "id": "_AumylaZpoQO",
    "outputId": "a5ee3af1-44f5-4624-927e-6504346f42fe"
   },
   "outputs": [
    {
     "name": "stdout",
     "output_type": "stream",
     "text": [
      "x_train.shape :  (251888, 150)\n",
      "x_val.shape :  (62973, 150)\n",
      "x_test.shape  :  (78716, 150)\n"
     ]
    }
   ],
   "source": [
    "x_train, x_test, y_train, y_test = train_test_split(x, y, test_size = 0.2, random_state = 42, stratify = y)\n",
    "x_train, x_val, y_train, y_val = train_test_split(x_train, y_train, test_size = 0.2, random_state = 42, stratify = y_train)\n",
    "print(\"x_train.shape : \", x_train.shape)\n",
    "print(\"x_val.shape : \", x_val.shape)\n",
    "print(\"x_test.shape  : \", x_test.shape)"
   ]
  },
  {
   "cell_type": "code",
   "execution_count": 87,
   "metadata": {
    "executionInfo": {
     "elapsed": 3115,
     "status": "ok",
     "timestamp": 1616888463592,
     "user": {
      "displayName": "김수린",
      "photoUrl": "",
      "userId": "07414750594198422591"
     },
     "user_tz": -540
    },
    "id": "WtEshW2TpqS-"
   },
   "outputs": [],
   "source": [
    "f1score = F1Score(num_classes=1, threshold=0.5)\n",
    "adam = Adam(learning_rate=0.01, beta_1=0.9, beta_2=0.999)"
   ]
  },
  {
   "cell_type": "code",
   "execution_count": 88,
   "metadata": {
    "executionInfo": {
     "elapsed": 2955,
     "status": "ok",
     "timestamp": 1616888463593,
     "user": {
      "displayName": "김수린",
      "photoUrl": "",
      "userId": "07414750594198422591"
     },
     "user_tz": -540
    },
    "id": "zPohLDpbpru5"
   },
   "outputs": [],
   "source": [
    "def create_model():\n",
    "    model = Sequential()\n",
    "    \n",
    "    model.add(Embedding(vocab_size, 300, weights=[embedding_matrix], input_length=max_len, trainable=False))\n",
    "\n",
    "    model.add(LSTM(128))\n",
    "    model.add(Dropout(0.2))\n",
    "\n",
    "    model.add(Dense(1, activation = 'sigmoid'))\n",
    "    \n",
    "    model.compile(optimizer=adam, metrics=['accuracy', f1score], loss='binary_crossentropy')\n",
    "    \n",
    "    return model"
   ]
  },
  {
   "cell_type": "code",
   "execution_count": 89,
   "metadata": {
    "executionInfo": {
     "elapsed": 4310,
     "status": "ok",
     "timestamp": 1616888465270,
     "user": {
      "displayName": "김수린",
      "photoUrl": "",
      "userId": "07414750594198422591"
     },
     "user_tz": -540
    },
    "id": "pjRlAD_GpuC6"
   },
   "outputs": [],
   "source": [
    "model = create_model()"
   ]
  },
  {
   "cell_type": "code",
   "execution_count": 90,
   "metadata": {
    "colab": {
     "base_uri": "https://localhost:8080/"
    },
    "executionInfo": {
     "elapsed": 3548,
     "status": "ok",
     "timestamp": 1616888465271,
     "user": {
      "displayName": "김수린",
      "photoUrl": "",
      "userId": "07414750594198422591"
     },
     "user_tz": -540
    },
    "id": "yhJOqIPfpvap",
    "outputId": "561a2867-1bd0-4be8-f4ac-73352c7f8397"
   },
   "outputs": [
    {
     "name": "stdout",
     "output_type": "stream",
     "text": [
      "Model: \"sequential_8\"\n",
      "_________________________________________________________________\n",
      "Layer (type)                 Output Shape              Param #   \n",
      "=================================================================\n",
      "embedding_8 (Embedding)      (None, 150, 300)          34207800  \n",
      "_________________________________________________________________\n",
      "lstm_1 (LSTM)                (None, 128)               219648    \n",
      "_________________________________________________________________\n",
      "dropout_5 (Dropout)          (None, 128)               0         \n",
      "_________________________________________________________________\n",
      "dense_5 (Dense)              (None, 1)                 129       \n",
      "=================================================================\n",
      "Total params: 34,427,577\n",
      "Trainable params: 219,777\n",
      "Non-trainable params: 34,207,800\n",
      "_________________________________________________________________\n"
     ]
    }
   ],
   "source": [
    "model.summary()"
   ]
  },
  {
   "cell_type": "code",
   "execution_count": 91,
   "metadata": {
    "executionInfo": {
     "elapsed": 1746,
     "status": "ok",
     "timestamp": 1616888465272,
     "user": {
      "displayName": "김수린",
      "photoUrl": "",
      "userId": "07414750594198422591"
     },
     "user_tz": -540
    },
    "id": "XZ6__IhLfWT7"
   },
   "outputs": [],
   "source": [
    "from tensorflow.keras.callbacks import EarlyStopping\n",
    "from tensorflow.keras.callbacks import ReduceLROnPlateau"
   ]
  },
  {
   "cell_type": "code",
   "execution_count": 92,
   "metadata": {
    "executionInfo": {
     "elapsed": 1536,
     "status": "ok",
     "timestamp": 1616888465272,
     "user": {
      "displayName": "김수린",
      "photoUrl": "",
      "userId": "07414750594198422591"
     },
     "user_tz": -540
    },
    "id": "VXhiDuisfYEF"
   },
   "outputs": [],
   "source": [
    "es = EarlyStopping(monitor='val_loss', patience=2, verbose=1)\n",
    "reduce_lr = ReduceLROnPlateau(monitor='val_loss', factor=0.1, patience=1, verbose=1)"
   ]
  },
  {
   "cell_type": "code",
   "execution_count": 93,
   "metadata": {
    "colab": {
     "base_uri": "https://localhost:8080/"
    },
    "executionInfo": {
     "elapsed": 5101531,
     "status": "ok",
     "timestamp": 1616893565487,
     "user": {
      "displayName": "김수린",
      "photoUrl": "",
      "userId": "07414750594198422591"
     },
     "user_tz": -540
    },
    "id": "5D9wSNTeHHXu",
    "outputId": "83909f1b-dacc-4166-8df5-43555f2bf12b"
   },
   "outputs": [
    {
     "name": "stdout",
     "output_type": "stream",
     "text": [
      "Epoch 1/100\n",
      "492/492 [==============================] - 1013s 2s/step - loss: 0.3360 - accuracy: 0.8506 - f1_score: 0.9070 - val_loss: 0.2446 - val_accuracy: 0.8988 - val_f1_score: 0.9372\n",
      "Epoch 2/100\n",
      "492/492 [==============================] - 1012s 2s/step - loss: 0.2264 - accuracy: 0.9075 - f1_score: 0.9414 - val_loss: 0.2246 - val_accuracy: 0.9085 - val_f1_score: 0.9416\n",
      "Epoch 3/100\n",
      "492/492 [==============================] - 1016s 2s/step - loss: 0.2099 - accuracy: 0.9146 - f1_score: 0.9459 - val_loss: 0.2225 - val_accuracy: 0.9097 - val_f1_score: 0.9429\n",
      "Epoch 4/100\n",
      "492/492 [==============================] - 1039s 2s/step - loss: 0.1845 - accuracy: 0.9266 - f1_score: 0.9533 - val_loss: 0.2255 - val_accuracy: 0.9102 - val_f1_score: 0.9432\n",
      "\n",
      "Epoch 00004: ReduceLROnPlateau reducing learning rate to 0.0009999999776482583.\n",
      "Epoch 5/100\n",
      "492/492 [==============================] - 1021s 2s/step - loss: 0.1500 - accuracy: 0.9416 - f1_score: 0.9629 - val_loss: 0.2351 - val_accuracy: 0.9097 - val_f1_score: 0.9425\n",
      "\n",
      "Epoch 00005: ReduceLROnPlateau reducing learning rate to 9.999999310821295e-05.\n",
      "Epoch 00005: early stopping\n"
     ]
    }
   ],
   "source": [
    "history = model.fit(x_train, y_train, validation_data = (x_val, y_val), callbacks = [reduce_lr, es], epochs=100, batch_size=512)"
   ]
  },
  {
   "cell_type": "code",
   "execution_count": 97,
   "metadata": {
    "colab": {
     "base_uri": "https://localhost:8080/",
     "height": 295
    },
    "executionInfo": {
     "elapsed": 777,
     "status": "ok",
     "timestamp": 1616893688560,
     "user": {
      "displayName": "김수린",
      "photoUrl": "",
      "userId": "07414750594198422591"
     },
     "user_tz": -540
    },
    "id": "H__u_3_Jc33d",
    "outputId": "533714ce-92cb-4702-8348-105af572e65f"
   },
   "outputs": [
    {
     "data": {
      "image/png": "[encoded data removed]",
      "text/plain": [
       "<Figure size 432x288 with 1 Axes>"
      ]
     },
     "metadata": {
      "needs_background": "light",
      "tags": []
     },
     "output_type": "display_data"
    }
   ],
   "source": [
    "epochs = range(1, len(history.history['loss']) + 1)\n",
    "\n",
    "plt.plot(epochs, history.history['loss'], 'r', label = 'Training loss')\n",
    "plt.plot(epochs, history.history['val_loss'], 'b', label = 'Validation loss')\n",
    "plt.title('Training and validation loss')\n",
    "plt.xlabel('Epochs')\n",
    "plt.ylabel('Loss')\n",
    "plt.legend()      \n",
    "\n",
    "plt.show()"
   ]
  },
  {
   "cell_type": "code",
   "execution_count": 98,
   "metadata": {
    "colab": {
     "base_uri": "https://localhost:8080/",
     "height": 295
    },
    "executionInfo": {
     "elapsed": 1197,
     "status": "ok",
     "timestamp": 1616893688998,
     "user": {
      "displayName": "김수린",
      "photoUrl": "",
      "userId": "07414750594198422591"
     },
     "user_tz": -540
    },
    "id": "JwLYvL7BlYv6",
    "outputId": "a6d4af7a-84d6-4bc9-bc0a-ac92ddf50c7c"
   },
   "outputs": [
    {
     "data": {
      "image/png": "[encoded data removed]",
      "text/plain": [
       "<Figure size 432x288 with 1 Axes>"
      ]
     },
     "metadata": {
      "needs_background": "light",
      "tags": []
     },
     "output_type": "display_data"
    }
   ],
   "source": [
    "plt.plot(epochs, history.history['f1_score'], 'r', label = 'Training f1 score')\n",
    "plt.plot(epochs, history.history['val_f1_score'], 'b', label = 'Validation f1 score')\n",
    "plt.title('Training and validation f1 score')\n",
    "plt.xlabel('Epochs')\n",
    "plt.ylabel('f1 score')\n",
    "plt.legend()      \n",
    "\n",
    "plt.show()"
   ]
  },
  {
   "cell_type": "markdown",
   "metadata": {
    "id": "ljyYzFWSHSbK"
   },
   "source": [
    "### prediction"
   ]
  },
  {
   "cell_type": "code",
   "execution_count": 96,
   "metadata": {
    "colab": {
     "base_uri": "https://localhost:8080/"
    },
    "executionInfo": {
     "elapsed": 5221177,
     "status": "ok",
     "timestamp": 1616893687763,
     "user": {
      "displayName": "김수린",
      "photoUrl": "",
      "userId": "07414750594198422591"
     },
     "user_tz": -540
    },
    "id": "HMOVFndEHOy6",
    "outputId": "bc4ff373-ae89-4141-9532-f9120cfc50ca"
   },
   "outputs": [
    {
     "name": "stdout",
     "output_type": "stream",
     "text": [
      "154/154 [==============================] - 122s 790ms/step - loss: 0.2386 - accuracy: 0.9078 - f1_score: 0.9413\n"
     ]
    }
   ],
   "source": [
    "loss_and_metrics = model.evaluate(x_test, y_test, batch_size=512)"
   ]
  }
 ],
 "metadata": {
  "colab": {
   "authorship_tag": "ABX9TyNSsrKa+G7b8vICv0TQILii",
   "collapsed_sections": [],
   "name": "food_review_최종코드.ipynb",
   "provenance": []
  },
  "kernelspec": {
   "display_name": "Python 3 (ipykernel)",
   "language": "python",
   "name": "python3"
  },
  "language_info": {
   "codemirror_mode": {
    "name": "ipython",
    "version": 3
   },
   "file_extension": ".py",
   "mimetype": "text/x-python",
   "name": "python",
   "nbconvert_exporter": "python",
   "pygments_lexer": "ipython3",
   "version": "3.8.8"
  }
 },
 "nbformat": 4,
 "nbformat_minor": 1
}

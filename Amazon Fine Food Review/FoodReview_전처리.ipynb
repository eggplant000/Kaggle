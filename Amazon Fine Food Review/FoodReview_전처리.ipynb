{
 "cells": [
  {
   "cell_type": "markdown",
   "metadata": {
    "id": "4g6QOXlSSJru"
   },
   "source": [
    "# Amazon Fine Food \n",
    "\n",
    "### data : https://www.kaggle.com/snap/amazon-fine-food-reviews\n",
    "\n"
   ]
  },
  {
   "cell_type": "markdown",
   "metadata": {
    "id": "-wMiVUJbSnHl"
   },
   "source": [
    "## 0. 구글 설정\n"
   ]
  },
  {
   "cell_type": "code",
   "execution_count": null,
   "metadata": {
    "id": "wsJr7HbjSd79",
    "outputId": "de064eff-18ae-4ed9-99e1-36c6c0436ae8"
   },
   "outputs": [],
   "source": [
    "from google.colab import drive\n",
    "drive.mount('/gdrive')"
   ]
  },
  {
   "cell_type": "markdown",
   "metadata": {},
   "source": [
    "## 1. 모듈 불러오기"
   ]
  },
  {
   "cell_type": "code",
   "execution_count": null,
   "metadata": {},
   "outputs": [],
   "source": [
    "!pip install beautifulsoup4"
   ]
  },
  {
   "cell_type": "code",
   "execution_count": null,
   "metadata": {
    "id": "YkXLQQZdpqSr"
   },
   "outputs": [],
   "source": [
    "import numpy as np\n",
    "import pandas as pd\n",
    "import matplotlib.pyplot as plt\n",
    "import seaborn as sns\n",
    "\n",
    "import re\n",
    "from bs4 import BeautifulSoup\n",
    "from nltk.stem import WordNetLemmatizer\n",
    "\n",
    "from nltk.corpus import stopwords"
   ]
  },
  {
   "cell_type": "markdown",
   "metadata": {
    "id": "8UTkCwO1RUnp"
   },
   "source": [
    "# 2. 데이터 살펴보기\n"
   ]
  },
  {
   "cell_type": "code",
   "execution_count": null,
   "metadata": {
    "id": "9B26YTIrp2yp",
    "outputId": "ef30919f-bef3-40e9-bd8b-2e1c9a12df6a"
   },
   "outputs": [],
   "source": [
    "# 구글\n",
    "# df = pd.read_csv('Reviews.csv')\n",
    "\n",
    "# 캐글\n",
    "df = pd.read_csv('/kaggle/input/amazon-fine-food-reviews/Reviews.csv')\n",
    "\n",
    "df.head()"
   ]
  },
  {
   "cell_type": "markdown",
   "metadata": {},
   "source": [
    "### feature\n",
    "\n",
    "* id : 인덱스\n",
    "* ProductId : 제품의 아이디\n",
    "* UserId : 고객의 아이디\n",
    "* ProfileName : 고객의 프로필 이름\n",
    "* HelpfulnessNumerator : 해당 리뷰가 도움이 되었다고 답한 고객의 수\n",
    "* HelpfulnessDenominator : 해당 리뷰를 본 고객의 수\n",
    "* Score : 리뷰 점수\n",
    "* Time : 리뷰를 남긴 타임스탬프, 유닉스 시간을 사용하는 것 같다.\n",
    "* Summary : 리뷰 요약\n",
    "* Text : 리뷰 내용"
   ]
  },
  {
   "cell_type": "code",
   "execution_count": null,
   "metadata": {
    "id": "AiJQlIFatl1e",
    "outputId": "f974efbc-8ee5-444a-e5f4-64171474f5a0"
   },
   "outputs": [],
   "source": [
    "df.columns"
   ]
  },
  {
   "cell_type": "code",
   "execution_count": null,
   "metadata": {
    "id": "Uitt95dUqHxH",
    "outputId": "bf0e8fcd-759e-4c9f-b4ae-77e6a0806e77"
   },
   "outputs": [],
   "source": [
    "df.info() \n",
    "\n",
    "# ProfileName, Summary에서 null 값이 존재한다. \n",
    "# 우리가 필요한 건 Score와  Text 데이터이므로 제거하지 않음"
   ]
  },
  {
   "cell_type": "markdown",
   "metadata": {},
   "source": [
    "### 중복값 및 잘못된 자료 제거"
   ]
  },
  {
   "cell_type": "code",
   "execution_count": null,
   "metadata": {},
   "outputs": [],
   "source": [
    "sum(df.duplicated(subset={\"UserId\",\"ProfileName\",\"Time\",\"Text\"})) # 중복존재확인"
   ]
  },
  {
   "cell_type": "code",
   "execution_count": null,
   "metadata": {},
   "outputs": [],
   "source": [
    "# 중복값 제거\n",
    "df.drop_duplicates(subset={\"UserId\",\"ProfileName\",\"Time\",\"Text\"}, keep='first', inplace=True)\n",
    "df.shape"
   ]
  },
  {
   "cell_type": "code",
   "execution_count": null,
   "metadata": {},
   "outputs": [],
   "source": [
    "df=df[df[\"HelpfulnessNumerator\"]<=df[\"HelpfulnessDenominator\"]] #분자>분모인 잘못된 자료 제거\n",
    "df.shape"
   ]
  },
  {
   "cell_type": "code",
   "execution_count": null,
   "metadata": {},
   "outputs": [],
   "source": [
    "df = df[['Score','Text']] #필요한 데이터만 남김\n",
    "\n",
    "# NULL데이터 없음\n",
    "print(df['Score'].isnull().sum())\n",
    "df['Text'].isnull().sum()"
   ]
  },
  {
   "cell_type": "markdown",
   "metadata": {
    "id": "wkP14cuZP5F4"
   },
   "source": [
    "### 리뷰 내용이 같으나 score가 다른 리뷰가 있는지 확인"
   ]
  },
  {
   "cell_type": "code",
   "execution_count": null,
   "metadata": {
    "id": "GeHSDKzExcAh",
    "outputId": "e2db1883-79b5-47e9-bad7-03891774ab63"
   },
   "outputs": [],
   "source": [
    "df[\"Text\"].nunique()              # unique한 리뷰 개수"
   ]
  },
  {
   "cell_type": "code",
   "execution_count": null,
   "metadata": {},
   "outputs": [],
   "source": [
    "len(df.groupby([\"Score\",\"Text\"]))  # 점수 별로 리뷰를 그룹지었을 때 리뷰 수"
   ]
  },
  {
   "cell_type": "markdown",
   "metadata": {},
   "source": [
    "리뷰 내용은 같지만 score가 다른 리뷰가 존재하므로 해당 리뷰는 score의 평균을 구함"
   ]
  },
  {
   "cell_type": "code",
   "execution_count": null,
   "metadata": {},
   "outputs": [],
   "source": [
    "df = df.groupby('Text').mean().reset_index()\n",
    "df['Score'].value_counts()"
   ]
  },
  {
   "cell_type": "markdown",
   "metadata": {},
   "source": [
    "### Score에 따라 binary data로 변경 "
   ]
  },
  {
   "cell_type": "code",
   "execution_count": null,
   "metadata": {},
   "outputs": [],
   "source": [
    "# Score가 3이하인 경우 0, 아닌 경우 1\n",
    "\n",
    "df[\"Score\"] = df[\"Score\"].apply(lambda x : 1 if x>3 else 0)\n",
    "df.head()"
   ]
  },
  {
   "cell_type": "markdown",
   "metadata": {},
   "source": [
    "데이터 imbalance 확인"
   ]
  },
  {
   "cell_type": "code",
   "execution_count": null,
   "metadata": {},
   "outputs": [],
   "source": [
    "df['Score'].value_counts()"
   ]
  },
  {
   "cell_type": "code",
   "execution_count": null,
   "metadata": {},
   "outputs": [],
   "source": [
    "plt.figure(figsize = (10,7))\n",
    "sns.countplot(x = df['Score'])\n",
    "plt.title(\"Bar plot of Score\")"
   ]
  },
  {
   "cell_type": "markdown",
   "metadata": {
    "id": "9ViOkpsCRR2k"
   },
   "source": [
    "# 3. 텍스트 전처리\n",
    "\n"
   ]
  },
  {
   "cell_type": "markdown",
   "metadata": {},
   "source": [
    "1. decontract\n",
    "2. html tags 제거\n",
    "3. 알파벳만 유지 & 소문자로 변환 & split\n",
    "4. stop words 제거 & Lemmatization(표제어추출)"
   ]
  },
  {
   "cell_type": "markdown",
   "metadata": {},
   "source": [
    "### sample을 통해 어떻게 전처리가 이루어지는지 단계별로 확인함(skip해도 됨)"
   ]
  },
  {
   "cell_type": "code",
   "execution_count": null,
   "metadata": {},
   "outputs": [],
   "source": [
    "sample = df.loc[0,'Text']\n",
    "sample"
   ]
  },
  {
   "cell_type": "code",
   "execution_count": null,
   "metadata": {},
   "outputs": [],
   "source": [
    "# decontract (baseline 코드에서 가져옴)\n",
    "\n",
    "def decontract(text):\n",
    "    text = re.sub(r\"won\\'t\", \"will not\", text)\n",
    "    text = re.sub(r\"can\\'t\", \"can not\", text)\n",
    "    text = re.sub(r\"n\\'t\", \" not\", text)\n",
    "    text = re.sub(r\"\\'re\", \" are\", text)\n",
    "    text = re.sub(r\"\\'s\", \" is\", text)\n",
    "    text = re.sub(r\"\\'d\", \" would\", text)\n",
    "    text = re.sub(r\"\\'ll\", \" will\", text)\n",
    "    text = re.sub(r\"\\'t\", \" not\", text)\n",
    "    text = re.sub(r\"\\'ve\", \" have\", text)\n",
    "    text = re.sub(r\"\\'m\", \" am\", text)\n",
    "    return text\n",
    "\n",
    "sample = decontract(sample) # hadn't -> had not\n",
    "sample"
   ]
  },
  {
   "cell_type": "code",
   "execution_count": null,
   "metadata": {},
   "outputs": [],
   "source": [
    "# html tags 제거\n",
    "sample = BeautifulSoup(sample, 'lxml').get_text()\n",
    "sample"
   ]
  },
  {
   "cell_type": "code",
   "execution_count": null,
   "metadata": {},
   "outputs": [],
   "source": [
    "# 알파벳만 유지, 소문자로 변환한 후 토큰화\n",
    "sample = re.sub('[^A-Za-z]+', ' ', sample)\n",
    "sample_token = sample.lower().split(\" \")    \n",
    "print(sample_token)"
   ]
  },
  {
   "cell_type": "code",
   "execution_count": null,
   "metadata": {},
   "outputs": [],
   "source": [
    "# stop words 제거 & Lemmatization(표제어추출)\n",
    "lemmatizer = WordNetLemmatizer()\n",
    "stop_words= set(stopwords.words(\"english\"))\n",
    "stop_words.remove(\"not\")                     # not은 제거하지 않음\n",
    "    \n",
    "sample = [lemmatizer.lemmatize(token, \"v\") for token in sample_token if not token in stop_words] \n",
    "print(sample) # not이 유지됨, my, i, this와 같은 불용어가 제거됨"
   ]
  },
  {
   "cell_type": "code",
   "execution_count": null,
   "metadata": {},
   "outputs": [],
   "source": [
    "sample = \" \".join(sample) # 한 문장으로 만듦\n",
    "sample.strip()            # 양쪽 공백 제거"
   ]
  },
  {
   "cell_type": "markdown",
   "metadata": {},
   "source": [
    "### 이제 모든 과정을 함수로 만들어서 실제 Text 데이터에 적용"
   ]
  },
  {
   "cell_type": "code",
   "execution_count": null,
   "metadata": {},
   "outputs": [],
   "source": [
    "def preprocess_text(review):\n",
    "      \n",
    "    # decontract\n",
    "    review = decontract(review) \n",
    "    \n",
    "    # html tags 제거\n",
    "    review = BeautifulSoup(review, 'lxml').get_text()\n",
    "    \n",
    "    # 알파벳만 유지 & 소문자로 변환 & split\n",
    "    review = re.sub('[^A-Za-z]+', ' ', review)          \n",
    "    review_token = review.lower().split(\" \")                             \n",
    "    \n",
    "    # stop words 제거 & Lemmatization(표제어추출)\n",
    "    lemmatizer = WordNetLemmatizer()\n",
    "    stop_words= set(stopwords.words(\"english\"))\n",
    "    stop_words.remove(\"not\")                    # not은 제거하지 않음\n",
    "    \n",
    "    review = [lemmatizer.lemmatize(token, \"v\") for token in review_token if not token in stop_words] \n",
    "    \n",
    "    review = \" \".join(review)\n",
    "    review.strip()\n",
    "    \n",
    "    return review"
   ]
  },
  {
   "cell_type": "code",
   "execution_count": null,
   "metadata": {},
   "outputs": [],
   "source": [
    "df['Text'] = df['Text'].apply(lambda x: preprocess_text(x))\n",
    "df.head() # 결과"
   ]
  },
  {
   "cell_type": "markdown",
   "metadata": {},
   "source": [
    "## 전처리 자료 저장"
   ]
  },
  {
   "cell_type": "code",
   "execution_count": null,
   "metadata": {},
   "outputs": [],
   "source": [
    "df.to_csv('df.csv')"
   ]
  }
 ],
 "metadata": {
  "kernelspec": {
   "display_name": "Python 3 (ipykernel)",
   "language": "python",
   "name": "python3"
  },
  "language_info": {
   "codemirror_mode": {
    "name": "ipython",
    "version": 3
   },
   "file_extension": ".py",
   "mimetype": "text/x-python",
   "name": "python",
   "nbconvert_exporter": "python",
   "pygments_lexer": "ipython3",
   "version": "3.8.8"
  }
 },
 "nbformat": 4,
 "nbformat_minor": 4
}
